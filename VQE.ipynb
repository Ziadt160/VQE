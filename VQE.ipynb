{
 "cells": [
  {
   "cell_type": "markdown",
   "id": "9e354082",
   "metadata": {},
   "source": [
    "Using VQE, To predict the lowest eigen value for H3"
   ]
  },
  {
   "cell_type": "code",
   "execution_count": 1,
   "id": "8072571a",
   "metadata": {},
   "outputs": [],
   "source": [
    "import pennylane as qml \n",
    "from pennylane import numpy as np\n",
    "import pennylane.qchem as qchem"
   ]
  },
  {
   "cell_type": "markdown",
   "id": "3ed5d5eb",
   "metadata": {},
   "source": [
    "First, we need to define the molecule we want and it's geometrical structure"
   ]
  },
  {
   "cell_type": "code",
   "execution_count": 2,
   "id": "7345e8dc",
   "metadata": {},
   "outputs": [],
   "source": [
    "symbols = [\"H\", \"H\", \"H\"]\n",
    "coordinates = np.array([\n",
    "    [0.0102, 0.0442, 0.0],\n",
    "    [0.9867, 1.6303, 0.0],\n",
    "    [1.8720, -0.0085, 0.0]\n",
    "])\n"
   ]
  },
  {
   "cell_type": "markdown",
   "id": "3ed3c7ca",
   "metadata": {},
   "source": [
    "Construct the hamoltonian operator "
   ]
  },
  {
   "cell_type": "code",
   "execution_count": 3,
   "id": "2cd5000e",
   "metadata": {},
   "outputs": [],
   "source": [
    "hamoltonian, qubits = qchem.molecular_hamiltonian(symbols, coordinates, charge = 1)"
   ]
  },
  {
   "cell_type": "markdown",
   "id": "05b89d82",
   "metadata": {},
   "source": [
    "Intializing the reference state using Hartee Fock approxamiation "
   ]
  },
  {
   "cell_type": "code",
   "execution_count": 4,
   "id": "63c14cb9",
   "metadata": {},
   "outputs": [],
   "source": [
    "hf = qchem.hf_state(electrons=2, orbitals=6)"
   ]
  },
  {
   "cell_type": "code",
   "execution_count": 5,
   "id": "b77d0840",
   "metadata": {},
   "outputs": [
    {
     "data": {
      "text/plain": [
       "array([1, 1, 0, 0, 0, 0])"
      ]
     },
     "execution_count": 5,
     "metadata": {},
     "output_type": "execute_result"
    }
   ],
   "source": [
    "hf"
   ]
  },
  {
   "cell_type": "code",
   "execution_count": 6,
   "id": "3104e4e1",
   "metadata": {},
   "outputs": [],
   "source": [
    "num_wires = qubits\n",
    "dev = qml.device(\"default.qubit\", wires= num_wires)"
   ]
  },
  {
   "cell_type": "code",
   "execution_count": 7,
   "id": "96085a85",
   "metadata": {},
   "outputs": [],
   "source": [
    "@qml.qnode(dev)\n",
    "def exp_energy(state):\n",
    "    qml.BasisState(np.array(state), wires=range(num_wires))\n",
    "    return qml.expval(hamoltonian)"
   ]
  },
  {
   "cell_type": "markdown",
   "id": "7b4da908",
   "metadata": {},
   "source": [
    "Predicting the lowest bound eigen value for our quantum state using Hartee Fock Approximation"
   ]
  },
  {
   "cell_type": "code",
   "execution_count": 8,
   "id": "b838f425",
   "metadata": {},
   "outputs": [
    {
     "name": "stderr",
     "output_type": "stream",
     "text": [
      "c:\\Users\\20102\\miniconda3\\envs\\quantum\\Lib\\site-packages\\pennylane\\ops\\op_math\\composite.py:209: FutureWarning: functools.partial will be a method descriptor in future Python versions; wrap it in staticmethod() if you want to preserve the old behavior\n",
      "  return self._math_op(math.vstack(eigvals), axis=0)\n"
     ]
    },
    {
     "data": {
      "text/plain": [
       "tensor(-1.24655016, requires_grad=True)"
      ]
     },
     "execution_count": 8,
     "metadata": {},
     "output_type": "execute_result"
    }
   ],
   "source": [
    "exp_energy(hf)"
   ]
  },
  {
   "cell_type": "markdown",
   "id": "335b4fae",
   "metadata": {},
   "source": [
    "Creating our variational circuit form"
   ]
  },
  {
   "cell_type": "code",
   "execution_count": 9,
   "id": "3e1c671b",
   "metadata": {},
   "outputs": [],
   "source": [
    "def ansatz(param):\n",
    "    qml.BasisState(hf, wires=range(num_wires))\n",
    "    qml.DoubleExcitation(param[0], wires=[0, 1, 2, 3])\n",
    "    qml.DoubleExcitation(param[1], wires=[0, 1, 4, 5])\n",
    "    "
   ]
  },
  {
   "cell_type": "markdown",
   "id": "86f60259",
   "metadata": {},
   "source": [
    "Creating the cost function based on the expectation value from getting the expectancy of the hamoltonian"
   ]
  },
  {
   "cell_type": "code",
   "execution_count": 10,
   "id": "4b43b867",
   "metadata": {},
   "outputs": [],
   "source": [
    "@qml.qnode(dev)\n",
    "def cost_function(param):\n",
    "    ansatz(param)\n",
    "    return qml.expval(hamoltonian)"
   ]
  },
  {
   "cell_type": "code",
   "execution_count": 11,
   "id": "46baf7b7",
   "metadata": {},
   "outputs": [
    {
     "data": {
      "text/plain": [
       "tensor(-1.26796721, requires_grad=True)"
      ]
     },
     "execution_count": 11,
     "metadata": {},
     "output_type": "execute_result"
    }
   ],
   "source": [
    "cost_function([0.1 , 0.1])"
   ]
  },
  {
   "cell_type": "markdown",
   "id": "a58c17a2",
   "metadata": {},
   "source": [
    "Creating the optimization process using Gradient Descent to minmize our objective function which is the expectation value of Hamoltonian"
   ]
  },
  {
   "cell_type": "code",
   "execution_count": 12,
   "id": "bc539a9f",
   "metadata": {},
   "outputs": [
    {
     "name": "stdout",
     "output_type": "stream",
     "text": [
      " Step = 0, Energy = -1.26070025 Ha\n",
      " Step = 2, Energy = -1.27115671 Ha\n",
      " Step = 4, Energy = -1.27365804 Ha\n",
      " Step = 6, Energy = -1.27425241 Ha\n",
      " Step = 8, Energy = -1.27439362 Ha\n",
      " Step = 10, Energy = -1.27442718 Ha\n",
      " Step = 12, Energy = -1.27443517 Ha\n",
      " Step = 14, Energy = -1.27443707 Ha\n",
      " Step = 16, Energy = -1.27443752 Ha\n",
      " Step = 18, Energy = -1.27443763 Ha\n"
     ]
    }
   ],
   "source": [
    "ops = qml.GradientDescentOptimizer(stepsize=0.4)\n",
    "\n",
    "theta = np.array([0.0, 0.0], requires_grad=True)\n",
    "\n",
    "energy = [cost_function(hf)]\n",
    "angle = [theta]\n",
    "max_iterations = 20\n",
    "\n",
    "for n in range(max_iterations):\n",
    "    theta, prev_energy = ops.step_and_cost(cost_function, theta)\n",
    "    energy.append(cost_function(theta))\n",
    "    \n",
    "    if n%2 == 0:\n",
    "        print(f\" Step = {n}, Energy = {energy[-1]:.8f} Ha\")\n"
   ]
  },
  {
   "cell_type": "code",
   "execution_count": 13,
   "id": "bafc7857",
   "metadata": {},
   "outputs": [
    {
     "name": "stdout",
     "output_type": "stream",
     "text": [
      "Final ground energy: -1.27443764 Ha\n",
      "Final angle parameters: 0.19203468 0.19290335\n"
     ]
    }
   ],
   "source": [
    "print(f\"Final ground energy: {energy[-1]:.8f} Ha\")\n",
    "print(f\"Final angle parameters: {theta[0]:.8f} {theta[1]:.8f}\")"
   ]
  }
 ],
 "metadata": {
  "kernelspec": {
   "display_name": "quantum",
   "language": "python",
   "name": "python3"
  },
  "language_info": {
   "codemirror_mode": {
    "name": "ipython",
    "version": 3
   },
   "file_extension": ".py",
   "mimetype": "text/x-python",
   "name": "python",
   "nbconvert_exporter": "python",
   "pygments_lexer": "ipython3",
   "version": "3.13.5"
  }
 },
 "nbformat": 4,
 "nbformat_minor": 5
}
